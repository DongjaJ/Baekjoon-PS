{
 "cells": [
  {
   "cell_type": "code",
   "execution_count": 14,
   "id": "dde23c24",
   "metadata": {},
   "outputs": [
    {
     "name": "stdout",
     "output_type": "stream",
     "text": [
      "3\n",
      "3\n",
      "1\n",
      "2\n",
      "5\n"
     ]
    }
   ],
   "source": [
    "s=[]\n",
    "d=[0]*10001\n",
    "n=int(input())\n",
    "for _ in range(n):\n",
    "    s.append(int(input()))\n",
    "if n<=2:\n",
    "    print(sum(s))\n",
    "else:\n",
    "    d[0],d[1]=s[0],s[0]+s[1]\n",
    "    d[2]=max(s[0]+s[1],s[0]+s[2],s[1]+s[2])\n",
    "    for i in range(3,n):\n",
    "        d[i]=max(d[i-1],d[i-2]+s[i],d[i-3]+s[i]+s[i-1])\n",
    "    print(d[n-1])"
   ]
  },
  {
   "cell_type": "code",
   "execution_count": 15,
   "id": "62e1e330",
   "metadata": {},
   "outputs": [
    {
     "data": {
      "text/plain": [
       "[0, 1]"
      ]
     },
     "execution_count": 15,
     "metadata": {},
     "output_type": "execute_result"
    }
   ],
   "source": [
    "dp=[0]\n",
    "dp.append(1)\n",
    "dp"
   ]
  },
  {
   "cell_type": "code",
   "execution_count": null,
   "id": "ee966ba7",
   "metadata": {},
   "outputs": [],
   "source": []
  }
 ],
 "metadata": {
  "kernelspec": {
   "display_name": "Python 3",
   "language": "python",
   "name": "python3"
  },
  "language_info": {
   "codemirror_mode": {
    "name": "ipython",
    "version": 3
   },
   "file_extension": ".py",
   "mimetype": "text/x-python",
   "name": "python",
   "nbconvert_exporter": "python",
   "pygments_lexer": "ipython3",
   "version": "3.8.8"
  }
 },
 "nbformat": 4,
 "nbformat_minor": 5
}
