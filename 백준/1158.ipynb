{
 "cells": [
  {
   "cell_type": "code",
   "execution_count": 44,
   "id": "f32c675f",
   "metadata": {},
   "outputs": [
    {
     "name": "stdout",
     "output_type": "stream",
     "text": [
      "7 3\n",
      "<3, 6, 2, 7, 5, 1, 4>\n"
     ]
    }
   ],
   "source": [
    "n,k=map(int,input().split())\n",
    "N=[i for i in range(1,n+1)]\n",
    "a=[]\n",
    "i,cnt=0,0\n",
    "while True:\n",
    "    if len(a)==n:\n",
    "        break\n",
    "    if N[i]:\n",
    "        cnt+=1\n",
    "        if cnt==k:\n",
    "            a.append(N[i])\n",
    "            N[i], cnt=0,0\n",
    "    i=(i+1)%n\n",
    "print(\"<\"+\", \".join(map(str,a))+\">\")"
   ]
  },
  {
   "cell_type": "markdown",
   "id": "9e1dd6af",
   "metadata": {},
   "source": [
    "### "
   ]
  }
 ],
 "metadata": {
  "kernelspec": {
   "display_name": "Python 3",
   "language": "python",
   "name": "python3"
  },
  "language_info": {
   "codemirror_mode": {
    "name": "ipython",
    "version": 3
   },
   "file_extension": ".py",
   "mimetype": "text/x-python",
   "name": "python",
   "nbconvert_exporter": "python",
   "pygments_lexer": "ipython3",
   "version": "3.8.8"
  }
 },
 "nbformat": 4,
 "nbformat_minor": 5
}
