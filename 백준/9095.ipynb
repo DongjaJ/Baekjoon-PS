{
 "cells": [
  {
   "cell_type": "code",
   "execution_count": 2,
   "id": "ed153434",
   "metadata": {},
   "outputs": [
    {
     "name": "stdout",
     "output_type": "stream",
     "text": [
      "3\n",
      "4\n",
      "7\n",
      "7\n",
      "44\n",
      "10\n",
      "274\n"
     ]
    }
   ],
   "source": [
    "t=int(input())\n",
    "for _ in range(t):\n",
    "    n=int(input())\n",
    "    if n <= 2:\n",
    "        print(n)\n",
    "    elif n==3:\n",
    "        print(4)\n",
    "    else:\n",
    "        d=[0]*(n+1)\n",
    "        d[1],d[2],d[3]=1,2,4\n",
    "        for i in range(4,n+1):\n",
    "            d[i]=d[i-1]+d[i-2]+d[i-3]\n",
    "        print(d[n])"
   ]
  },
  {
   "cell_type": "code",
   "execution_count": null,
   "id": "c0561721",
   "metadata": {},
   "outputs": [],
   "source": []
  }
 ],
 "metadata": {
  "kernelspec": {
   "display_name": "Python 3",
   "language": "python",
   "name": "python3"
  },
  "language_info": {
   "codemirror_mode": {
    "name": "ipython",
    "version": 3
   },
   "file_extension": ".py",
   "mimetype": "text/x-python",
   "name": "python",
   "nbconvert_exporter": "python",
   "pygments_lexer": "ipython3",
   "version": "3.8.8"
  }
 },
 "nbformat": 4,
 "nbformat_minor": 5
}
