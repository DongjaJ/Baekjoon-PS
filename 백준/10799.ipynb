{
 "cells": [
  {
   "cell_type": "code",
   "execution_count": 3,
   "id": "0f588b4a",
   "metadata": {},
   "outputs": [
    {
     "name": "stdout",
     "output_type": "stream",
     "text": [
      "(((()(()()))(())()))(()())\n",
      "24\n"
     ]
    }
   ],
   "source": [
    "a=list(input())\n",
    "s=[]\n",
    "cnt=0\n",
    "for i in range(len(a)):\n",
    "    if a[i]==\"(\":\n",
    "        s.append(a[i])\n",
    "    elif a[i-1]==\"(\":\n",
    "        s.pop()\n",
    "        cnt+=len(s)\n",
    "    else:\n",
    "        s.pop()\n",
    "        cnt+=1\n",
    "print(cnt)"
   ]
  },
  {
   "cell_type": "code",
   "execution_count": null,
   "id": "cccd4094",
   "metadata": {},
   "outputs": [],
   "source": []
  }
 ],
 "metadata": {
  "kernelspec": {
   "display_name": "Python 3",
   "language": "python",
   "name": "python3"
  },
  "language_info": {
   "codemirror_mode": {
    "name": "ipython",
    "version": 3
   },
   "file_extension": ".py",
   "mimetype": "text/x-python",
   "name": "python",
   "nbconvert_exporter": "python",
   "pygments_lexer": "ipython3",
   "version": "3.8.8"
  }
 },
 "nbformat": 4,
 "nbformat_minor": 5
}
