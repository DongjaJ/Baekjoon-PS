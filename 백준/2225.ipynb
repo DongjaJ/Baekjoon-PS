{
 "cells": [
  {
   "cell_type": "code",
   "execution_count": 44,
   "id": "9795f50a",
   "metadata": {},
   "outputs": [
    {
     "name": "stdout",
     "output_type": "stream",
     "text": [
      "1 3\n",
      "3\n"
     ]
    }
   ],
   "source": [
    "n,k=map(int,input().split())\n",
    "d=[[0]*201 for i in range(201)]\n",
    "for i in range(201):\n",
    "    d[0][i]=1\n",
    "for i in range(1,n+1):\n",
    "    for j in range(1,k+1):\n",
    "            d[i][j]=d[i-1][j]%1000000000+d[i][j-1]%1000000000\n",
    "print(d[n][k]%1000000000)"
   ]
  },
  {
   "cell_type": "code",
   "execution_count": null,
   "id": "191e89f0",
   "metadata": {},
   "outputs": [],
   "source": []
  }
 ],
 "metadata": {
  "kernelspec": {
   "display_name": "Python 3",
   "language": "python",
   "name": "python3"
  },
  "language_info": {
   "codemirror_mode": {
    "name": "ipython",
    "version": 3
   },
   "file_extension": ".py",
   "mimetype": "text/x-python",
   "name": "python",
   "nbconvert_exporter": "python",
   "pygments_lexer": "ipython3",
   "version": "3.8.8"
  }
 },
 "nbformat": 4,
 "nbformat_minor": 5
}
