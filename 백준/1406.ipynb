{
 "cells": [
  {
   "cell_type": "code",
   "execution_count": 53,
   "id": "ded4f34c",
   "metadata": {},
   "outputs": [
    {
     "name": "stdout",
     "output_type": "stream",
     "text": [
      "dmih\n",
      "11\n",
      "B\n",
      "B\n",
      "P x\n",
      "L\n",
      "B\n",
      "B\n",
      "B\n",
      "P y\n",
      "D\n",
      "D\n",
      "P z\n",
      "yxz\n"
     ]
    }
   ],
   "source": [
    "import sys\n",
    "s=list(input())\n",
    "#s=list(sys.stdin.readline())\n",
    "stack=[]\n",
    "#for _ in range(int(sys.stdin.readline())):\n",
    "for _ in range(int(input())):\n",
    "    #cmd=sys.stdin.readline().split()\n",
    "    cmd=input().split()\n",
    "    if cmd[0]==\"L\" and len(s):\n",
    "        stack.append(s.pop())\n",
    "        \n",
    "    elif cmd[0]==\"D\" and len(stack):\n",
    "        s.append(stack.pop())\n",
    "        #stack=stack[1:]\n",
    "        \n",
    "    elif cmd[0]==\"B\" and len(s):\n",
    "        s.pop()\n",
    "        \n",
    "    elif cmd[0]==\"P\":\n",
    "        s.append(cmd[1])\n",
    "\n",
    "stack.reverse()\n",
    "print(\"\".join(s+stack))"
   ]
  },
  {
   "cell_type": "code",
   "execution_count": null,
   "id": "23dae128",
   "metadata": {},
   "outputs": [],
   "source": []
  },
  {
   "cell_type": "code",
   "execution_count": null,
   "id": "adadc494",
   "metadata": {},
   "outputs": [],
   "source": []
  }
 ],
 "metadata": {
  "kernelspec": {
   "display_name": "Python 3",
   "language": "python",
   "name": "python3"
  },
  "language_info": {
   "codemirror_mode": {
    "name": "ipython",
    "version": 3
   },
   "file_extension": ".py",
   "mimetype": "text/x-python",
   "name": "python",
   "nbconvert_exporter": "python",
   "pygments_lexer": "ipython3",
   "version": "3.8.8"
  }
 },
 "nbformat": 4,
 "nbformat_minor": 5
}
