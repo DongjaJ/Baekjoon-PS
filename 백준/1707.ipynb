{
 "cells": [
  {
   "cell_type": "code",
   "execution_count": 49,
   "id": "a88a7c68",
   "metadata": {},
   "outputs": [
    {
     "name": "stdout",
     "output_type": "stream",
     "text": [
      "1\n",
      "6 6\n",
      "1 3\n",
      "3 4\n",
      "4 2\n",
      "2 5\n",
      "5 6\n",
      "6 1\n",
      "Yes\n"
     ]
    }
   ],
   "source": [
    "def dfs(v,c):\n",
    "    visit[v]=c\n",
    "    for j in graph[v]:\n",
    "        if visit[j]==0:\n",
    "             if not dfs(j,-c):\n",
    "                return False\n",
    "        elif visit[v]==visit[j]:\n",
    "                return False\n",
    "    return True\n",
    "\n",
    "for _ in range(int(input())):\n",
    "    v,e=map(int,input().split())\n",
    "    graph=[[] for i in range(v+1)]\n",
    "    visit=[0]*(v+1)\n",
    "\n",
    "    for _ in range(e):\n",
    "        a,b=map(int,input().split())\n",
    "        graph[a].append(b)\n",
    "        graph[b].append(a)\n",
    "\n",
    "    ch=True\n",
    "    for i in range(1,v+1):\n",
    "        if visit[i]==0:\n",
    "            if not dfs(i,1):\n",
    "                ch=False\n",
    "                break\n",
    "    if ch: print(\"YES\")\n",
    "    else: print(\"NO\")"
   ]
  },
  {
   "cell_type": "code",
   "execution_count": 54,
   "id": "1d447677",
   "metadata": {},
   "outputs": [
    {
     "name": "stdout",
     "output_type": "stream",
     "text": [
      "1\n",
      "4 4\n",
      "1 2\n",
      "2 3\n",
      "3 4\n",
      "4 2\n",
      "NO\n"
     ]
    }
   ],
   "source": [
    "from collections import deque\n",
    "\n",
    "def bfs(v):\n",
    "    visit[v]=1\n",
    "    q=deque()\n",
    "    q.append(v)\n",
    "    while q:\n",
    "        n=q.popleft()\n",
    "        for i in graph[n]:\n",
    "            if visit[i]==0:\n",
    "                visit[i]=-visit[n]\n",
    "                q.append(i)\n",
    "            elif visit[n]==visit[i]:\n",
    "                return False\n",
    "    return True\n",
    "\n",
    "for _ in range(int(input())):\n",
    "    v,e=map(int,input().split())\n",
    "    graph=[[] for i in range(v+1)]\n",
    "    visit=[0]*(v+1)\n",
    "\n",
    "    for _ in range(e):\n",
    "        a,b=map(int,input().split())\n",
    "        graph[a].append(b)\n",
    "        graph[b].append(a)\n",
    "\n",
    "    ch=True\n",
    "    for i in range(1,v+1):\n",
    "        if visit[i]==0:\n",
    "            if not bfs(i):\n",
    "                ch=False\n",
    "                break\n",
    "    if ch: print(\"YES\")\n",
    "    else: print(\"NO\")"
   ]
  },
  {
   "cell_type": "code",
   "execution_count": null,
   "id": "85d494fd",
   "metadata": {},
   "outputs": [],
   "source": []
  }
 ],
 "metadata": {
  "kernelspec": {
   "display_name": "Python 3",
   "language": "python",
   "name": "python3"
  },
  "language_info": {
   "codemirror_mode": {
    "name": "ipython",
    "version": 3
   },
   "file_extension": ".py",
   "mimetype": "text/x-python",
   "name": "python",
   "nbconvert_exporter": "python",
   "pygments_lexer": "ipython3",
   "version": "3.8.8"
  }
 },
 "nbformat": 4,
 "nbformat_minor": 5
}
