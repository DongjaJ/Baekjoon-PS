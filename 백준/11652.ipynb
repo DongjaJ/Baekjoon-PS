{
 "cells": [
  {
   "cell_type": "code",
   "execution_count": 14,
   "id": "8c474521",
   "metadata": {},
   "outputs": [
    {
     "name": "stdout",
     "output_type": "stream",
     "text": [
      "5\n",
      "1\n",
      "2\n",
      "1\n",
      "2\n",
      "1\n",
      "1\n"
     ]
    }
   ],
   "source": [
    "n=int(input())\n",
    "dic={}\n",
    "for i in range(n):\n",
    "    tmp=int(input())\n",
    "    if tmp in dic.keys():\n",
    "        dic[tmp]+=1\n",
    "    else:\n",
    "        dic[tmp]=1\n",
    "dic=sorted(dic.items(),key=lambda x:(-x[1],x[0]))\n",
    "print(dic[0][0])"
   ]
  },
  {
   "cell_type": "code",
   "execution_count": null,
   "id": "c553fa3e",
   "metadata": {},
   "outputs": [],
   "source": []
  }
 ],
 "metadata": {
  "kernelspec": {
   "display_name": "Python 3",
   "language": "python",
   "name": "python3"
  },
  "language_info": {
   "codemirror_mode": {
    "name": "ipython",
    "version": 3
   },
   "file_extension": ".py",
   "mimetype": "text/x-python",
   "name": "python",
   "nbconvert_exporter": "python",
   "pygments_lexer": "ipython3",
   "version": "3.8.8"
  }
 },
 "nbformat": 4,
 "nbformat_minor": 5
}
