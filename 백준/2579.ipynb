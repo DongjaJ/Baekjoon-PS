{
 "cells": [
  {
   "cell_type": "code",
   "execution_count": 16,
   "id": "34c10ff7",
   "metadata": {},
   "outputs": [
    {
     "name": "stdout",
     "output_type": "stream",
     "text": [
      "6\n",
      "6\n",
      "6\n",
      "1\n",
      "1\n",
      "6\n",
      "6\n",
      "19\n"
     ]
    }
   ],
   "source": [
    "a,d=[],[0]*301\n",
    "n=int(input())\n",
    "for _ in range(n):\n",
    "    a.append(int(input()))\n",
    "if n==1:\n",
    "        print(a[0])\n",
    "elif n==2:\n",
    "    print(a[0]+a[1])\n",
    "elif n==3:\n",
    "    print(max(a[0]+a[1],a[0]+a[2],a[1]+a[2]))\n",
    "else:\n",
    "    for i in range(n):\n",
    "        d[0],d[1],d[2]=a[0],a[0]+a[1],max(a[0]+a[2],a[1]+a[2])\n",
    "        for i in range(3,n):\n",
    "            d[i]=max(d[i-2]+a[i],d[i-3]+a[i-1]+a[i])\n",
    "    print(d[n-1])"
   ]
  },
  {
   "cell_type": "markdown",
   "id": "93dc5706",
   "metadata": {},
   "source": []
  }
 ],
 "metadata": {
  "kernelspec": {
   "display_name": "Python 3",
   "language": "python",
   "name": "python3"
  },
  "language_info": {
   "codemirror_mode": {
    "name": "ipython",
    "version": 3
   },
   "file_extension": ".py",
   "mimetype": "text/x-python",
   "name": "python",
   "nbconvert_exporter": "python",
   "pygments_lexer": "ipython3",
   "version": "3.8.8"
  }
 },
 "nbformat": 4,
 "nbformat_minor": 5
}
