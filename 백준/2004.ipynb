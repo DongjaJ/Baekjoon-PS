{
 "cells": [
  {
   "cell_type": "code",
   "execution_count": 32,
   "id": "05d0362a",
   "metadata": {},
   "outputs": [
    {
     "name": "stdout",
     "output_type": "stream",
     "text": [
      "25 12\n",
      "2\n"
     ]
    }
   ],
   "source": [
    "n,m=map(int,input().split())\n",
    "def CountN(n,k):\n",
    "    cnt=0\n",
    "    ck=k\n",
    "    while n >= ck:\n",
    "        cnt+=n//ck\n",
    "        ck*=k\n",
    "    return cnt\n",
    "cnt5=CountN(n,5)-CountN(m,5)-CountN(n-m,5)\n",
    "cnt2CountN(n,2)-CountN(m,2)-CountN(n-m,2)\n",
    "print(min(cnt2,cnt5))"
   ]
  },
  {
   "cell_type": "markdown",
   "id": "189423ae",
   "metadata": {},
   "source": []
  }
 ],
 "metadata": {
  "kernelspec": {
   "display_name": "Python 3",
   "language": "python",
   "name": "python3"
  },
  "language_info": {
   "codemirror_mode": {
    "name": "ipython",
    "version": 3
   },
   "file_extension": ".py",
   "mimetype": "text/x-python",
   "name": "python",
   "nbconvert_exporter": "python",
   "pygments_lexer": "ipython3",
   "version": "3.8.8"
  }
 },
 "nbformat": 4,
 "nbformat_minor": 5
}
