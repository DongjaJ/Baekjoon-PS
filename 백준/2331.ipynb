{
 "cells": [
  {
   "cell_type": "code",
   "execution_count": 9,
   "id": "836a5746",
   "metadata": {},
   "outputs": [
    {
     "name": "stdout",
     "output_type": "stream",
     "text": [
      "57 2\n",
      "4\n"
     ]
    }
   ],
   "source": [
    "def next_int(x,y):\n",
    "    sum=0\n",
    "    tmp=x\n",
    "    while tmp>0:\n",
    "        sum+=(tmp%10)**y\n",
    "        tmp//=10\n",
    "    return sum\n",
    "\n",
    "\n",
    "a,p=map(int,input().split())\n",
    "d=[]\n",
    "d.append(a)\n",
    "tmp=a\n",
    "while True:\n",
    "    n=next_int(a,p)\n",
    "    if n not in d:\n",
    "        d.append(n)\n",
    "        a=n\n",
    "    else:\n",
    "        print(d.index(n))\n",
    "        break\n"
   ]
  },
  {
   "cell_type": "code",
   "execution_count": null,
   "id": "9e390f29",
   "metadata": {},
   "outputs": [],
   "source": []
  }
 ],
 "metadata": {
  "kernelspec": {
   "display_name": "Python 3",
   "language": "python",
   "name": "python3"
  },
  "language_info": {
   "codemirror_mode": {
    "name": "ipython",
    "version": 3
   },
   "file_extension": ".py",
   "mimetype": "text/x-python",
   "name": "python",
   "nbconvert_exporter": "python",
   "pygments_lexer": "ipython3",
   "version": "3.8.8"
  }
 },
 "nbformat": 4,
 "nbformat_minor": 5
}
