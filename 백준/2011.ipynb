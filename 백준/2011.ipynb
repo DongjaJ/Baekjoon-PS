{
 "cells": [
  {
   "cell_type": "code",
   "execution_count": 25,
   "id": "791420f6",
   "metadata": {},
   "outputs": [
    {
     "name": "stdout",
     "output_type": "stream",
     "text": [
      "25114\n",
      "6\n"
     ]
    }
   ],
   "source": [
    "a=list(map(int,list(input())))\n",
    "d=[0]*5001\n",
    "\n",
    "if a[0]==0:\n",
    "    print(0)\n",
    "else:\n",
    "    a=[0]+a\n",
    "    d[0],d[1]=1,1\n",
    "    for i in range(2,len(a)):\n",
    "        if a[i]>0:\n",
    "            d[i]+=d[i-1]%1000000\n",
    "        tmp=a[i]+a[i-1]*10\n",
    "        if tmp >= 10 and tmp <= 26:\n",
    "            d[i]+=d[i-2]%1000000\n",
    "    print(d[len(a)-1]%1000000)"
   ]
  },
  {
   "cell_type": "markdown",
   "id": "8c3c7abe",
   "metadata": {},
   "source": []
  }
 ],
 "metadata": {
  "kernelspec": {
   "display_name": "Python 3",
   "language": "python",
   "name": "python3"
  },
  "language_info": {
   "codemirror_mode": {
    "name": "ipython",
    "version": 3
   },
   "file_extension": ".py",
   "mimetype": "text/x-python",
   "name": "python",
   "nbconvert_exporter": "python",
   "pygments_lexer": "ipython3",
   "version": "3.8.8"
  }
 },
 "nbformat": 4,
 "nbformat_minor": 5
}
