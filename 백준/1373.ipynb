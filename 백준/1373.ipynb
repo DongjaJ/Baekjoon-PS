{
 "cells": [
  {
   "cell_type": "code",
   "execution_count": 35,
   "id": "9536fc0c",
   "metadata": {},
   "outputs": [
    {
     "name": "stdout",
     "output_type": "stream",
     "text": [
      "0\n",
      "0\n"
     ]
    }
   ],
   "source": [
    "n=list(input())\n",
    "ans=[]\n",
    "n.reverse()\n",
    "k,tmp=1,0\n",
    "if len(n)==1: print(int(n[0]))\n",
    "for i in range(len(n)):\n",
    "    tmp+=int(n[i])*k\n",
    "    k*=2\n",
    "    if i!=0 and (i%3==2 or i==len(n)-1):\n",
    "        ans.append(tmp)\n",
    "        tmp,k=0,1\n",
    "    \n",
    "for i in reversed(ans):\n",
    "    print(i,end='')\n",
    "        \n",
    "    "
   ]
  },
  {
   "cell_type": "code",
   "execution_count": null,
   "id": "57ebc5f0",
   "metadata": {},
   "outputs": [],
   "source": []
  }
 ],
 "metadata": {
  "kernelspec": {
   "display_name": "Python 3",
   "language": "python",
   "name": "python3"
  },
  "language_info": {
   "codemirror_mode": {
    "name": "ipython",
    "version": 3
   },
   "file_extension": ".py",
   "mimetype": "text/x-python",
   "name": "python",
   "nbconvert_exporter": "python",
   "pygments_lexer": "ipython3",
   "version": "3.8.8"
  }
 },
 "nbformat": 4,
 "nbformat_minor": 5
}
