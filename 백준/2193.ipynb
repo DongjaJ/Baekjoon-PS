{
 "cells": [
  {
   "cell_type": "code",
   "execution_count": 3,
   "id": "a97f0c6b",
   "metadata": {},
   "outputs": [
    {
     "name": "stdout",
     "output_type": "stream",
     "text": [
      "3\n",
      "2\n"
     ]
    }
   ],
   "source": [
    "n=int(input())\n",
    "d=[[0 for i in range(2)]for j in range(91)]\n",
    "d[1][1]=1\n",
    "for i in range(2,n+1):\n",
    "    d[i][0],d[i][1]=sum(d[i-1]),d[i-1][0]\n",
    "print(sum(d[n]))"
   ]
  },
  {
   "cell_type": "code",
   "execution_count": null,
   "id": "0534d19a",
   "metadata": {},
   "outputs": [],
   "source": []
  }
 ],
 "metadata": {
  "kernelspec": {
   "display_name": "Python 3",
   "language": "python",
   "name": "python3"
  },
  "language_info": {
   "codemirror_mode": {
    "name": "ipython",
    "version": 3
   },
   "file_extension": ".py",
   "mimetype": "text/x-python",
   "name": "python",
   "nbconvert_exporter": "python",
   "pygments_lexer": "ipython3",
   "version": "3.8.8"
  }
 },
 "nbformat": 4,
 "nbformat_minor": 5
}
