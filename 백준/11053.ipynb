{
 "cells": [
  {
   "cell_type": "code",
   "execution_count": 17,
   "id": "9e17dfe3",
   "metadata": {},
   "outputs": [
    {
     "name": "stdout",
     "output_type": "stream",
     "text": [
      "3\n",
      "2 3 1\n",
      "2\n"
     ]
    }
   ],
   "source": [
    "n=int(input())\n",
    "d=[1]*10001\n",
    "A=[0]+list(map(int,input().split()))\n",
    "for i in range(1,n+1):\n",
    "    for j in range(1,i):\n",
    "        if A[i] > A[j]:\n",
    "            d[i]= max(d[i],d[j]+1)\n",
    "print(max(d))"
   ]
  },
  {
   "cell_type": "code",
   "execution_count": null,
   "id": "32ad7bc4",
   "metadata": {},
   "outputs": [],
   "source": []
  }
 ],
 "metadata": {
  "kernelspec": {
   "display_name": "Python 3",
   "language": "python",
   "name": "python3"
  },
  "language_info": {
   "codemirror_mode": {
    "name": "ipython",
    "version": 3
   },
   "file_extension": ".py",
   "mimetype": "text/x-python",
   "name": "python",
   "nbconvert_exporter": "python",
   "pygments_lexer": "ipython3",
   "version": "3.8.8"
  }
 },
 "nbformat": 4,
 "nbformat_minor": 5
}
