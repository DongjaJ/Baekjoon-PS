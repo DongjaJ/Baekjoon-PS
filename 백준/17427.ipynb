{
 "cells": [
  {
   "cell_type": "code",
   "execution_count": 1,
   "id": "169e6515",
   "metadata": {},
   "outputs": [
    {
     "name": "stdout",
     "output_type": "stream",
     "text": [
      "10\n",
      "10 1\n",
      "20 2\n",
      "29 3\n",
      "37 4\n",
      "47 5\n",
      "53 6\n",
      "60 7\n",
      "68 8\n",
      "77 9\n",
      "87 10\n",
      "87\n"
     ]
    }
   ],
   "source": [
    "import math\n",
    "\n",
    "\"\"\"\n",
    "def f(x):\n",
    "    sum=0\n",
    "    for i in range(1,int(math.sqrt(x))+1):\n",
    "        if x%i==0:\n",
    "            if i**2== x:\n",
    "                sum+=i\n",
    "            else:\n",
    "                sum+=i+x/i\n",
    "    return sum\n",
    "\"\"\"\n",
    "\n",
    "\n",
    "y=int(input())\n",
    "sum=0\n",
    "for i in range(1,y+1):\n",
    "    sum+=(int(y/i))*i\n",
    "    \n",
    "print(sum)"
   ]
  },
  {
   "cell_type": "code",
   "execution_count": null,
   "id": "e05ba1df",
   "metadata": {},
   "outputs": [],
   "source": []
  },
  {
   "cell_type": "code",
   "execution_count": null,
   "id": "139dfdb2",
   "metadata": {},
   "outputs": [],
   "source": []
  }
 ],
 "metadata": {
  "kernelspec": {
   "display_name": "Python 3",
   "language": "python",
   "name": "python3"
  },
  "language_info": {
   "codemirror_mode": {
    "name": "ipython",
    "version": 3
   },
   "file_extension": ".py",
   "mimetype": "text/x-python",
   "name": "python",
   "nbconvert_exporter": "python",
   "pygments_lexer": "ipython3",
   "version": "3.8.8"
  }
 },
 "nbformat": 4,
 "nbformat_minor": 5
}
