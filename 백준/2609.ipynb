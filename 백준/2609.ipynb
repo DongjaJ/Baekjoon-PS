{
 "cells": [
  {
   "cell_type": "code",
   "execution_count": 3,
   "id": "7f3af63b",
   "metadata": {},
   "outputs": [
    {
     "name": "stdout",
     "output_type": "stream",
     "text": [
      "24 18\n",
      "6 72\n"
     ]
    }
   ],
   "source": [
    "a,b=map(int,input().split())\n",
    "a1,b1=a,b\n",
    "while True:\n",
    "    if b1==0:\n",
    "        break\n",
    "    a1,b1=b1,a1%b1\n",
    "print(a1,int(a*b/a1))"
   ]
  },
  {
   "cell_type": "code",
   "execution_count": null,
   "id": "fb874447",
   "metadata": {},
   "outputs": [],
   "source": []
  }
 ],
 "metadata": {
  "kernelspec": {
   "display_name": "Python 3",
   "language": "python",
   "name": "python3"
  },
  "language_info": {
   "codemirror_mode": {
    "name": "ipython",
    "version": 3
   },
   "file_extension": ".py",
   "mimetype": "text/x-python",
   "name": "python",
   "nbconvert_exporter": "python",
   "pygments_lexer": "ipython3",
   "version": "3.8.8"
  }
 },
 "nbformat": 4,
 "nbformat_minor": 5
}
