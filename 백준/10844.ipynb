{
 "cells": [
  {
   "cell_type": "code",
   "execution_count": 11,
   "id": "3a32eeae",
   "metadata": {},
   "outputs": [
    {
     "name": "stdout",
     "output_type": "stream",
     "text": [
      "5\n",
      "116\n"
     ]
    }
   ],
   "source": [
    "n=int(input())\n",
    "d=[[0 for i in range(10)] for j in range(101)]\n",
    "for i in range(1,10):\n",
    "    d[1][i]=1\n",
    "for i in range(2,n+1):\n",
    "    for j in range(10):\n",
    "        if j==0:\n",
    "            d[i][j]=d[i-1][1]%1000000000\n",
    "        elif j==9:\n",
    "            d[i][j]=d[i-1][8]%1000000000\n",
    "        else:\n",
    "            d[i][j]=(d[i-1][j-1]%1000000000)+(d[i-1][j+1]%1000000000)\n",
    "print(sum(d[n])%1000000000)"
   ]
  },
  {
   "cell_type": "code",
   "execution_count": null,
   "id": "a1e113c6",
   "metadata": {},
   "outputs": [],
   "source": []
  }
 ],
 "metadata": {
  "kernelspec": {
   "display_name": "Python 3",
   "language": "python",
   "name": "python3"
  },
  "language_info": {
   "codemirror_mode": {
    "name": "ipython",
    "version": 3
   },
   "file_extension": ".py",
   "mimetype": "text/x-python",
   "name": "python",
   "nbconvert_exporter": "python",
   "pygments_lexer": "ipython3",
   "version": "3.8.8"
  }
 },
 "nbformat": 4,
 "nbformat_minor": 5
}
