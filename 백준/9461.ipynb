{
 "cells": [
  {
   "cell_type": "code",
   "execution_count": 5,
   "id": "2aec87c7",
   "metadata": {},
   "outputs": [
    {
     "name": "stdout",
     "output_type": "stream",
     "text": [
      "2\n",
      "6\n",
      "3\n",
      "12\n",
      "16\n"
     ]
    }
   ],
   "source": [
    "for _ in range(int(input())):\n",
    "    n=int(input())\n",
    "    p=[0]*101\n",
    "    p[0],p[1],p[2],p[3],p[4]=1,1,1,2,2\n",
    "    for i in range(5,n):\n",
    "        p[i]=p[i-1]+p[i-5]\n",
    "    print(p[n-1])"
   ]
  },
  {
   "cell_type": "code",
   "execution_count": null,
   "id": "ad44ccfc",
   "metadata": {},
   "outputs": [],
   "source": []
  }
 ],
 "metadata": {
  "kernelspec": {
   "display_name": "Python 3",
   "language": "python",
   "name": "python3"
  },
  "language_info": {
   "codemirror_mode": {
    "name": "ipython",
    "version": 3
   },
   "file_extension": ".py",
   "mimetype": "text/x-python",
   "name": "python",
   "nbconvert_exporter": "python",
   "pygments_lexer": "ipython3",
   "version": "3.8.8"
  }
 },
 "nbformat": 4,
 "nbformat_minor": 5
}
