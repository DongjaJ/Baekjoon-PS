{
 "cells": [
  {
   "cell_type": "code",
   "execution_count": 6,
   "id": "fadac6ac",
   "metadata": {},
   "outputs": [
    {
     "name": "stdout",
     "output_type": "stream",
     "text": [
      "9991\n",
      "97\n",
      "103\n"
     ]
    }
   ],
   "source": [
    "d=[0]*10000001\n",
    "d[1]=1\n",
    "n=int(input())\n",
    "for i in range(2,int(n**0.5)+1):\n",
    "    if d[i]==0:\n",
    "        for j in range(2*i,n+1,i):\n",
    "            d[j]=1\n",
    "\n",
    "i=2            \n",
    "while n>1:\n",
    "    if d[i]==0:\n",
    "        while n%i==0:\n",
    "            print(i)\n",
    "            n/=i\n",
    "    i+=1\n",
    "\n"
   ]
  },
  {
   "cell_type": "code",
   "execution_count": null,
   "id": "4a1df90c",
   "metadata": {},
   "outputs": [],
   "source": []
  }
 ],
 "metadata": {
  "kernelspec": {
   "display_name": "Python 3",
   "language": "python",
   "name": "python3"
  },
  "language_info": {
   "codemirror_mode": {
    "name": "ipython",
    "version": 3
   },
   "file_extension": ".py",
   "mimetype": "text/x-python",
   "name": "python",
   "nbconvert_exporter": "python",
   "pygments_lexer": "ipython3",
   "version": "3.8.8"
  }
 },
 "nbformat": 4,
 "nbformat_minor": 5
}
