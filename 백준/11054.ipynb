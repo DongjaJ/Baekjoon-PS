{
 "cells": [
  {
   "cell_type": "code",
   "execution_count": 16,
   "id": "e35c9740",
   "metadata": {},
   "outputs": [
    {
     "name": "stdout",
     "output_type": "stream",
     "text": [
      "10\n",
      "1 5 2 1 4 3 4 5 2 1\n",
      "7\n"
     ]
    }
   ],
   "source": [
    "n=int(input())\n",
    "a=list(map(int,input().split()))\n",
    "s1,s2=[1]*1001, [1]*1001\n",
    "for i in range(n):\n",
    "    for j in range(i):\n",
    "        if a[i] > a[j]:\n",
    "            s1[i]=max(s1[i],s1[j]+1)\n",
    "for i in range(n-1,-1,-1):\n",
    "    for j in range(i+1,n):\n",
    "        if a[i] > a[j]:\n",
    "            s2[i]=max(s2[i],s2[j]+1)\n",
    "print(max([a+b for a,b in zip(s1,s2)])-1)"
   ]
  },
  {
   "cell_type": "code",
   "execution_count": null,
   "id": "e6155665",
   "metadata": {},
   "outputs": [],
   "source": []
  }
 ],
 "metadata": {
  "kernelspec": {
   "display_name": "Python 3",
   "language": "python",
   "name": "python3"
  },
  "language_info": {
   "codemirror_mode": {
    "name": "ipython",
    "version": 3
   },
   "file_extension": ".py",
   "mimetype": "text/x-python",
   "name": "python",
   "nbconvert_exporter": "python",
   "pygments_lexer": "ipython3",
   "version": "3.8.8"
  }
 },
 "nbformat": 4,
 "nbformat_minor": 5
}
