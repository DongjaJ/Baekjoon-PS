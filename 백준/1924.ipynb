{
 "cells": [
  {
   "cell_type": "code",
   "execution_count": 14,
   "id": "eef06590",
   "metadata": {},
   "outputs": [
    {
     "name": "stdout",
     "output_type": "stream",
     "text": [
      "12 25\n",
      "TUE\n"
     ]
    },
    {
     "data": {
      "text/plain": [
       "'\\nif y%7 == 0:\\n    print(\"MON\")\\nelif y%7 ==1:\\n    print(\"TUE\")\\nelif y%7 ==2:\\n    print(\"WED\")\\nelif y%7 ==3:\\n    print(\"THU\")\\nelif y%7 ==4:\\n    print(\"FRI\")\\nelif y%7 ==5:\\n    print(\"SAT\")\\nelse:\\n    print(\"SUN\")\\n'"
      ]
     },
     "execution_count": 14,
     "metadata": {},
     "output_type": "execute_result"
    }
   ],
   "source": [
    "mon31=[1,3,5,7,8,10,12]\n",
    "\n",
    "x,y=map(int,input().split())\n",
    "y-=1\n",
    "for i in range(1,x):\n",
    "    if i in mon31:\n",
    "        y+=31\n",
    "    elif i ==2:\n",
    "        y+=28\n",
    "    else:\n",
    "        y+=30\n",
    "    \n",
    "day=[\"MON\",\"TUE\",\"WED\",\"THU\",\"FRI\",\"SAT\",\"SUN\"]\n",
    "print(day[y%7])\n",
    "\n",
    "\n",
    "\"\"\"\n",
    "if y%7 == 0:\n",
    "    print(\"MON\")\n",
    "elif y%7 ==1:\n",
    "    print(\"TUE\")\n",
    "elif y%7 ==2:\n",
    "    print(\"WED\")\n",
    "elif y%7 ==3:\n",
    "    print(\"THU\")\n",
    "elif y%7 ==4:\n",
    "    print(\"FRI\")\n",
    "elif y%7 ==5:\n",
    "    print(\"SAT\")\n",
    "else:\n",
    "    print(\"SUN\")\n",
    "\"\"\""
   ]
  },
  {
   "cell_type": "code",
   "execution_count": null,
   "id": "89eb32ae",
   "metadata": {},
   "outputs": [],
   "source": []
  },
  {
   "cell_type": "code",
   "execution_count": null,
   "id": "284d8046",
   "metadata": {},
   "outputs": [],
   "source": []
  }
 ],
 "metadata": {
  "kernelspec": {
   "display_name": "Python 3",
   "language": "python",
   "name": "python3"
  },
  "language_info": {
   "codemirror_mode": {
    "name": "ipython",
    "version": 3
   },
   "file_extension": ".py",
   "mimetype": "text/x-python",
   "name": "python",
   "nbconvert_exporter": "python",
   "pygments_lexer": "ipython3",
   "version": "3.8.8"
  }
 },
 "nbformat": 4,
 "nbformat_minor": 5
}
