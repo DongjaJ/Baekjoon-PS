{
 "cells": [
  {
   "cell_type": "code",
   "execution_count": 9,
   "id": "bfe40c3a",
   "metadata": {},
   "outputs": [
    {
     "name": "stdout",
     "output_type": "stream",
     "text": [
      "3 2\n",
      "1\n",
      "1\n",
      "1 "
     ]
    }
   ],
   "source": [
    "a,b=map(int,input().split())\n",
    "input()\n",
    "n=list(map(int,input().split()))\n",
    "tmp,k=0,1\n",
    "for i in reversed(n):\n",
    "    tmp+=i*k\n",
    "    k*=a\n",
    "ans=[]\n",
    "while tmp:\n",
    "    ans.append(tmp%b)\n",
    "    tmp//=b\n",
    "ans.reverse()\n",
    "for i in ans:\n",
    "    print(i,end=' ')"
   ]
  },
  {
   "cell_type": "markdown",
   "id": "1b812e8c",
   "metadata": {},
   "source": [
    "### "
   ]
  }
 ],
 "metadata": {
  "kernelspec": {
   "display_name": "Python 3",
   "language": "python",
   "name": "python3"
  },
  "language_info": {
   "codemirror_mode": {
    "name": "ipython",
    "version": 3
   },
   "file_extension": ".py",
   "mimetype": "text/x-python",
   "name": "python",
   "nbconvert_exporter": "python",
   "pygments_lexer": "ipython3",
   "version": "3.8.8"
  }
 },
 "nbformat": 4,
 "nbformat_minor": 5
}
