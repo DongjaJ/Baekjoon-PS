{
 "cells": [
  {
   "cell_type": "code",
   "execution_count": 1,
   "id": "cfbac559",
   "metadata": {},
   "outputs": [
    {
     "name": "stdout",
     "output_type": "stream",
     "text": [
      "5\n",
      "1 1\n",
      "Case #x1: 1 + 1 = 2\n",
      "2 3\n",
      "Case #x2: 2 + 3 = 5\n",
      "3 5\n",
      "Case #x3: 3 + 5 = 8\n",
      "9 8\n",
      "Case #x4: 9 + 8 = 17\n",
      "5 2\n",
      "Case #x5: 5 + 2 = 7\n"
     ]
    }
   ],
   "source": [
    "for i in range(int(input())):\n",
    "    a,b=map(int,input().split())\n",
    "    print(\"Case #x%d: %d + %d = %d\"%(i+1,a,b,a+b))"
   ]
  },
  {
   "cell_type": "code",
   "execution_count": null,
   "id": "1ccf2a0a",
   "metadata": {},
   "outputs": [],
   "source": []
  }
 ],
 "metadata": {
  "kernelspec": {
   "display_name": "Python 3",
   "language": "python",
   "name": "python3"
  },
  "language_info": {
   "codemirror_mode": {
    "name": "ipython",
    "version": 3
   },
   "file_extension": ".py",
   "mimetype": "text/x-python",
   "name": "python",
   "nbconvert_exporter": "python",
   "pygments_lexer": "ipython3",
   "version": "3.8.8"
  }
 },
 "nbformat": 4,
 "nbformat_minor": 5
}
