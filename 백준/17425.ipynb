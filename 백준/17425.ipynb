{
 "cells": [
  {
   "cell_type": "code",
   "execution_count": 1,
   "id": "9e1bc450",
   "metadata": {},
   "outputs": [
    {
     "name": "stdout",
     "output_type": "stream",
     "text": [
      "5\n",
      "1\n",
      "2\n",
      "10\n",
      "70\n",
      "10000\n",
      "1\n",
      "4\n",
      "87\n",
      "4065\n",
      "82256014\n",
      "\n"
     ]
    }
   ],
   "source": [
    "MAX=1000000\n",
    "\n",
    "s=[0]*(MAX+1)\n",
    "d=[0]*(MAX+1)\n",
    "ans=[]\n",
    "for i in range(1,MAX):\n",
    "    j=1\n",
    "    while i*j <= MAX:\n",
    "        d[i*j]+=i\n",
    "        j+=1\n",
    "\n",
    "for i in range(1, MAX+1):\n",
    "    s[i]+=s[i-1]+d[i]\n",
    "\n",
    "t=int(input())\n",
    "\n",
    "for i in range(t):\n",
    "    n=int(input())\n",
    "    ans.append(s[n])\n",
    "print('\\n'.join(map(str,ans))+'\\n')"
   ]
  },
  {
   "cell_type": "code",
   "execution_count": null,
   "id": "e4bbd258",
   "metadata": {},
   "outputs": [],
   "source": []
  },
  {
   "cell_type": "code",
   "execution_count": null,
   "id": "1409126e",
   "metadata": {},
   "outputs": [],
   "source": []
  },
  {
   "cell_type": "code",
   "execution_count": null,
   "id": "e7ad4172",
   "metadata": {},
   "outputs": [],
   "source": []
  }
 ],
 "metadata": {
  "kernelspec": {
   "display_name": "Python 3",
   "language": "python",
   "name": "python3"
  },
  "language_info": {
   "codemirror_mode": {
    "name": "ipython",
    "version": 3
   },
   "file_extension": ".py",
   "mimetype": "text/x-python",
   "name": "python",
   "nbconvert_exporter": "python",
   "pygments_lexer": "ipython3",
   "version": "3.8.8"
  }
 },
 "nbformat": 4,
 "nbformat_minor": 5
}
