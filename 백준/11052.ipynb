{
 "cells": [
  {
   "cell_type": "code",
   "execution_count": 8,
   "id": "292fe0db",
   "metadata": {},
   "outputs": [
    {
     "name": "stdout",
     "output_type": "stream",
     "text": [
      "4\n",
      "1 5 6 7\n",
      "10\n"
     ]
    }
   ],
   "source": [
    "n= int(input())\n",
    "d=[0]*1001\n",
    "c=[0]+list((map(int,input().split())))\n",
    "d[1]=c[1]\n",
    "d[2]=max(c[2],c[1]*2)\n",
    "for i in range(3,n+1):\n",
    "    d[i]=c[i]\n",
    "    for j in range(1,i//2+1):\n",
    "        d[i]=max(d[i],d[j]+d[i-j])\n",
    "print(d[n])"
   ]
  },
  {
   "cell_type": "markdown",
   "id": "dfb4993e",
   "metadata": {},
   "source": [
    "#### "
   ]
  }
 ],
 "metadata": {
  "kernelspec": {
   "display_name": "Python 3",
   "language": "python",
   "name": "python3"
  },
  "language_info": {
   "codemirror_mode": {
    "name": "ipython",
    "version": 3
   },
   "file_extension": ".py",
   "mimetype": "text/x-python",
   "name": "python",
   "nbconvert_exporter": "python",
   "pygments_lexer": "ipython3",
   "version": "3.8.8"
  }
 },
 "nbformat": 4,
 "nbformat_minor": 5
}
