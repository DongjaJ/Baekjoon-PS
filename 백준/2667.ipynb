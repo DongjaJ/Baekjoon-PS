{
 "cells": [
  {
   "cell_type": "code",
   "execution_count": 7,
   "id": "213a67f6",
   "metadata": {},
   "outputs": [
    {
     "name": "stdout",
     "output_type": "stream",
     "text": [
      "7\n",
      "0110100\n",
      "0110101\n",
      "1110101\n",
      "0000111\n",
      "0100000\n",
      "0111110\n",
      "0111000\n",
      "3\n",
      "7\n",
      "8\n",
      "9\n"
     ]
    }
   ],
   "source": [
    "from collections import deque\n",
    "\n",
    "n=int(input())\n",
    "m=[]\n",
    "#방향 왼,오,위,아래\n",
    "dx=[-1,1,0,0]\n",
    "dy=[0,0,-1,1]\n",
    "\n",
    "def bfs(x,y):\n",
    "    q=deque()\n",
    "    q.append([x,y])\n",
    "    visit[x][y]=True\n",
    "    cnt=0\n",
    "    while q:\n",
    "        tmp=q.popleft()\n",
    "        cnt+=1\n",
    "        for i in range(4):\n",
    "            x1=tmp[0]+dx[i]\n",
    "            y1=tmp[1]+dy[i]\n",
    "            if x1>=0 and x1<n and y1>=0 and y1<n:\n",
    "                if not visit[x1][y1] and m[x1][y1]==1:\n",
    "                    visit[x1][y1]=True\n",
    "                    q.append([x1,y1])\n",
    "    return cnt\n",
    "\n",
    "for _ in range(n):\n",
    "    m.append(list(map(int,input())))\n",
    "visit=[[False]*n for i in range(n)]\n",
    "\n",
    "group=0\n",
    "ans=[]\n",
    "for i in range(n):\n",
    "    for j in range(n):\n",
    "        if not visit[i][j] and m[i][j]==1:\n",
    "            group+=1\n",
    "            ans.append(bfs(i,j))\n",
    "ans.sort()\n",
    "print(group)\n",
    "for i in ans:\n",
    "    print(i)"
   ]
  },
  {
   "cell_type": "code",
   "execution_count": null,
   "id": "524467cf",
   "metadata": {},
   "outputs": [],
   "source": []
  },
  {
   "cell_type": "code",
   "execution_count": null,
   "id": "eaf982cc",
   "metadata": {},
   "outputs": [],
   "source": []
  }
 ],
 "metadata": {
  "kernelspec": {
   "display_name": "Python 3",
   "language": "python",
   "name": "python3"
  },
  "language_info": {
   "codemirror_mode": {
    "name": "ipython",
    "version": 3
   },
   "file_extension": ".py",
   "mimetype": "text/x-python",
   "name": "python",
   "nbconvert_exporter": "python",
   "pygments_lexer": "ipython3",
   "version": "3.8.8"
  }
 },
 "nbformat": 4,
 "nbformat_minor": 5
}
