{
 "cells": [
  {
   "cell_type": "code",
   "execution_count": 6,
   "id": "c13d9915",
   "metadata": {},
   "outputs": [
    {
     "name": "stdout",
     "output_type": "stream",
     "text": [
      "60466175 36\n",
      "ZZZZZ"
     ]
    }
   ],
   "source": [
    "n,b=map(int,input().split())\n",
    "a=[]\n",
    "while True:\n",
    "    if n<=0: break\n",
    "    a.append(n%b)\n",
    "    n=n//b\n",
    "for i in reversed(a):\n",
    "    if i < 10: print(i,end=\"\")\n",
    "    else: print(chr(i+55),end=\"\")"
   ]
  },
  {
   "cell_type": "code",
   "execution_count": null,
   "id": "9c57f386",
   "metadata": {},
   "outputs": [],
   "source": []
  }
 ],
 "metadata": {
  "kernelspec": {
   "display_name": "Python 3",
   "language": "python",
   "name": "python3"
  },
  "language_info": {
   "codemirror_mode": {
    "name": "ipython",
    "version": 3
   },
   "file_extension": ".py",
   "mimetype": "text/x-python",
   "name": "python",
   "nbconvert_exporter": "python",
   "pygments_lexer": "ipython3",
   "version": "3.8.8"
  }
 },
 "nbformat": 4,
 "nbformat_minor": 5
}
