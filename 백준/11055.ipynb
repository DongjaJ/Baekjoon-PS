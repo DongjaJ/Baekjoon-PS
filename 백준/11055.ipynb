{
 "cells": [
  {
   "cell_type": "code",
   "execution_count": 51,
   "id": "6e9da26f",
   "metadata": {},
   "outputs": [
    {
     "name": "stdout",
     "output_type": "stream",
     "text": [
      "5\n",
      "1 1 1 1 1\n",
      "1\n"
     ]
    }
   ],
   "source": [
    "n=int(input())\n",
    "#첫째행 길이, 둘째행 합\n",
    "d=[0]*1001\n",
    "A=list(map(int,input().split()))\n",
    "for i in range(n):\n",
    "    for j in range(i):\n",
    "        if A[i] > A[j]:\n",
    "            d[i]=max(d[i],d[j]+A[i])\n",
    "    if d[i] == 0:\n",
    "        d[i]=A[i]\n",
    "print(max(d))"
   ]
  },
  {
   "cell_type": "code",
   "execution_count": null,
   "id": "c6b865ac",
   "metadata": {},
   "outputs": [],
   "source": []
  },
  {
   "cell_type": "markdown",
   "id": "5c88f56a",
   "metadata": {},
   "source": [
    "##### "
   ]
  }
 ],
 "metadata": {
  "kernelspec": {
   "display_name": "Python 3",
   "language": "python",
   "name": "python3"
  },
  "language_info": {
   "codemirror_mode": {
    "name": "ipython",
    "version": 3
   },
   "file_extension": ".py",
   "mimetype": "text/x-python",
   "name": "python",
   "nbconvert_exporter": "python",
   "pygments_lexer": "ipython3",
   "version": "3.8.8"
  }
 },
 "nbformat": 4,
 "nbformat_minor": 5
}
