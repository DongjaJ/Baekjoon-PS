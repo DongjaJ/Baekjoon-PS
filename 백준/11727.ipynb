{
 "cells": [
  {
   "cell_type": "code",
   "execution_count": 8,
   "id": "91df43e5",
   "metadata": {},
   "outputs": [
    {
     "name": "stdout",
     "output_type": "stream",
     "text": [
      "1\n",
      "1\n"
     ]
    }
   ],
   "source": [
    "n = int(input())\n",
    "if n==1:\n",
    "    print(1)\n",
    "elif n==2:\n",
    "    print(3)\n",
    "else:\n",
    "    d=[0]*(n+1)\n",
    "    d[1],d[2]=1,3\n",
    "    for i in range(3,n+1):\n",
    "        d[i]=d[i-1]+d[i-2]*2\n",
    "    print(d[i]%10007)"
   ]
  },
  {
   "cell_type": "code",
   "execution_count": null,
   "id": "5faba41b",
   "metadata": {},
   "outputs": [],
   "source": []
  }
 ],
 "metadata": {
  "kernelspec": {
   "display_name": "Python 3",
   "language": "python",
   "name": "python3"
  },
  "language_info": {
   "codemirror_mode": {
    "name": "ipython",
    "version": 3
   },
   "file_extension": ".py",
   "mimetype": "text/x-python",
   "name": "python",
   "nbconvert_exporter": "python",
   "pygments_lexer": "ipython3",
   "version": "3.8.8"
  }
 },
 "nbformat": 4,
 "nbformat_minor": 5
}
