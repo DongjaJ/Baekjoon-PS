{
 "cells": [
  {
   "cell_type": "code",
   "execution_count": 9,
   "id": "aa2bb530",
   "metadata": {},
   "outputs": [
    {
     "name": "stdout",
     "output_type": "stream",
     "text": [
      "10\n",
      "[0, 0, 1, 1, 2, 3, 2, 3, 3, 2, 3]\n"
     ]
    },
    {
     "data": {
      "text/plain": [
       "'\\nfor i in range(x-1,0,-1):\\n    d[i]=d[i+1]+1\\n    if i*3<=x:\\n        d[i]=min(d[i],d[i*2]+1,d[i*3]+1)\\n    elif i*2<=x:\\n        d[i]=min(d[i],d[i*2]+1)\\nprint(d[1])\\n'"
      ]
     },
     "execution_count": 9,
     "metadata": {},
     "output_type": "execute_result"
    }
   ],
   "source": [
    "x=int(input())\n",
    "\n",
    "d=[0]*(x+1)\n",
    "\n",
    "for i in range(2,x+1):\n",
    "    d[i]=d[i-1]+1\n",
    "    if i%3 == 0:\n",
    "        d[i]= min(d[int(i/3)]+1,d[i])\n",
    "    if i%2 == 0:\n",
    "        d[i]= min(d[int(i/2)]+1,d[i])\n",
    "\n",
    "print(d[x])\n",
    "\n",
    "\"\"\"\n",
    "for i in range(x-1,0,-1):\n",
    "    d[i]=d[i+1]+1\n",
    "    if i*3<=x:\n",
    "        d[i]=min(d[i],d[i*2]+1,d[i*3]+1)\n",
    "    elif i*2<=x:\n",
    "        d[i]=min(d[i],d[i*2]+1)\n",
    "print(d[1])\n",
    "\"\"\"\n",
    "\n",
    "\n"
   ]
  },
  {
   "cell_type": "code",
   "execution_count": null,
   "id": "f0661f64",
   "metadata": {},
   "outputs": [],
   "source": []
  }
 ],
 "metadata": {
  "kernelspec": {
   "display_name": "Python 3",
   "language": "python",
   "name": "python3"
  },
  "language_info": {
   "codemirror_mode": {
    "name": "ipython",
    "version": 3
   },
   "file_extension": ".py",
   "mimetype": "text/x-python",
   "name": "python",
   "nbconvert_exporter": "python",
   "pygments_lexer": "ipython3",
   "version": "3.8.8"
  }
 },
 "nbformat": 4,
 "nbformat_minor": 5
}
