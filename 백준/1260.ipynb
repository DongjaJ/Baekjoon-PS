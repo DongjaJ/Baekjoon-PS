{
 "cells": [
  {
   "cell_type": "code",
   "execution_count": 23,
   "id": "58fcde8b",
   "metadata": {},
   "outputs": [
    {
     "name": "stdout",
     "output_type": "stream",
     "text": [
      "5 5 3\n",
      "5 4\n",
      "5 2\n",
      "1 2\n",
      "3 4\n",
      "3 1\n",
      "3 1 2 5 4 \n",
      "3 1 4 2 5 "
     ]
    }
   ],
   "source": [
    "from collections import deque\n",
    "\n",
    "visit=[0]*1001\n",
    "\n",
    "def dfs(x):\n",
    "    visit[x]=1\n",
    "    print(x,end=' ')\n",
    "    for i in graph[x]:\n",
    "        if visit[i]==0:\n",
    "            dfs(i)\n",
    "\n",
    "def bfs(x):\n",
    "    q=deque()\n",
    "    q.append(x)\n",
    "    visit[x]=1\n",
    "    while q:\n",
    "        n=q.popleft()\n",
    "        print(n, end=' ')\n",
    "        for i in graph[n]:\n",
    "            if visit[i]==0:\n",
    "                q.append(i)\n",
    "                visit[i]=1\n",
    "        \n",
    "\n",
    "n,m,v=map(int,input().split())\n",
    "graph=[[] for i in range(n+1)]\n",
    "\n",
    "for _ in range(m):\n",
    "    a,b=map(int,input().split())\n",
    "    graph[a].append(b)\n",
    "    graph[b].append(a)\n",
    "\n",
    "for i in graph:\n",
    "    i.sort()\n",
    "dfs(v)\n",
    "print()\n",
    "visit=[0]*1001\n",
    "\n",
    "bfs(v)"
   ]
  },
  {
   "cell_type": "code",
   "execution_count": null,
   "id": "6152aceb",
   "metadata": {},
   "outputs": [],
   "source": []
  }
 ],
 "metadata": {
  "kernelspec": {
   "display_name": "Python 3",
   "language": "python",
   "name": "python3"
  },
  "language_info": {
   "codemirror_mode": {
    "name": "ipython",
    "version": 3
   },
   "file_extension": ".py",
   "mimetype": "text/x-python",
   "name": "python",
   "nbconvert_exporter": "python",
   "pygments_lexer": "ipython3",
   "version": "3.8.8"
  }
 },
 "nbformat": 4,
 "nbformat_minor": 5
}
