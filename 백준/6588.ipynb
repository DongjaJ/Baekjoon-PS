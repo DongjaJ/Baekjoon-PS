{
 "cells": [
  {
   "cell_type": "code",
   "execution_count": null,
   "id": "f5895686",
   "metadata": {},
   "outputs": [
    {
     "name": "stdout",
     "output_type": "stream",
     "text": [
      "8\n",
      "8 = 3 + 5\n",
      "20\n",
      "20 = 3 + 17\n",
      "42\n",
      "42 = 5 + 37\n",
      "6\n",
      "6 = 3 + 3\n",
      "12\n",
      "12 = 5 + 7\n",
      "28\n",
      "28 = 5 + 23\n",
      "52\n",
      "52 = 5 + 47\n",
      "124\n",
      "124 = 11 + 113\n",
      "999998\n",
      "999998 = 19 + 999979\n"
     ]
    }
   ],
   "source": [
    "d=[0]*1000001\n",
    "d[1]=1\n",
    "\n",
    "for i in range(2,int(1000000**0.5)+1):\n",
    "        if d[i]==0:\n",
    "            for j in range(2*i,1000001,i):\n",
    "                d[j]=1\n",
    "while True:\n",
    "    n=int(input())\n",
    "    if n==0: break\n",
    "    a,b=3,n-3\n",
    "    while True:\n",
    "        if d[a]==0 and d[b]==0:\n",
    "            print(\"{} = {} + {}\".format(n,a,b))\n",
    "            break\n",
    "        a,b=a+2,b-2\n"
   ]
  },
  {
   "cell_type": "markdown",
   "id": "81cbb25f",
   "metadata": {},
   "source": [
    "## "
   ]
  },
  {
   "cell_type": "markdown",
   "id": "2ca5d39a",
   "metadata": {},
   "source": [
    "## "
   ]
  }
 ],
 "metadata": {
  "kernelspec": {
   "display_name": "Python 3",
   "language": "python",
   "name": "python3"
  },
  "language_info": {
   "codemirror_mode": {
    "name": "ipython",
    "version": 3
   },
   "file_extension": ".py",
   "mimetype": "text/x-python",
   "name": "python",
   "nbconvert_exporter": "python",
   "pygments_lexer": "ipython3",
   "version": "3.8.8"
  }
 },
 "nbformat": 4,
 "nbformat_minor": 5
}
