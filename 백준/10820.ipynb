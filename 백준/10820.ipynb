{
 "cells": [
  {
   "cell_type": "code",
   "execution_count": null,
   "id": "1fd88d37",
   "metadata": {},
   "outputs": [
    {
     "name": "stdout",
     "output_type": "stream",
     "text": [
      "111111111111111111111111111111111111111111111111111111111111111\n",
      "0 0 63 0 This is String\n",
      "10 2 0 2 SPACE    1    SPACE\n",
      "0 10 1 8  S a M p L e I n P u T     \n",
      "5 6 0 16 0L1A2S3T4L5I6N7E8\n",
      "0 8 9 0 \n",
      "0 0 0 0 "
     ]
    }
   ],
   "source": [
    "import sys\n",
    "while True:\n",
    "    try:\n",
    "        #s=sys.stdin.readline()\n",
    "        s=input()\n",
    "        a=[0]*4\n",
    "        for i in s:\n",
    "            if i==\" \":\n",
    "                a[3]+=1\n",
    "            elif ord(i)<=122 and ord(i)>= 97:\n",
    "                a[0]+=1\n",
    "            elif ord(i)>= 65:\n",
    "                a[1]+=1\n",
    "            else:\n",
    "                a[2]+=1\n",
    "        for i in range(4):\n",
    "            print(a[i], end= \" \")  \n",
    "    except EOFError:\n",
    "        break"
   ]
  },
  {
   "cell_type": "code",
   "execution_count": null,
   "id": "2be51674",
   "metadata": {},
   "outputs": [],
   "source": []
  },
  {
   "cell_type": "code",
   "execution_count": null,
   "id": "35401946",
   "metadata": {},
   "outputs": [],
   "source": []
  }
 ],
 "metadata": {
  "kernelspec": {
   "display_name": "Python 3",
   "language": "python",
   "name": "python3"
  },
  "language_info": {
   "codemirror_mode": {
    "name": "ipython",
    "version": 3
   },
   "file_extension": ".py",
   "mimetype": "text/x-python",
   "name": "python",
   "nbconvert_exporter": "python",
   "pygments_lexer": "ipython3",
   "version": "3.8.8"
  }
 },
 "nbformat": 4,
 "nbformat_minor": 5
}
