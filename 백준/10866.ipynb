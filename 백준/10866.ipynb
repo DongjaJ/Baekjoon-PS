{
 "cells": [
  {
   "cell_type": "code",
   "execution_count": 11,
   "id": "86a743c0",
   "metadata": {},
   "outputs": [
    {
     "name": "stdout",
     "output_type": "stream",
     "text": [
      "7\n",
      "pop_front\n",
      "-1\n",
      "size\n",
      "0\n",
      "empty\n",
      "0\n",
      "pop_back\n",
      "-1\n",
      "push_front 3\n",
      "[]\n",
      "empty\n",
      "0\n",
      "front\n",
      "3\n"
     ]
    }
   ],
   "source": [
    "import sys\n",
    "q=[]\n",
    "for _ in range(int(input())):\n",
    "    d=sys.stdin.readline().split()\n",
    "    if d[0]=='push_front':\n",
    "        q=[0]+q\n",
    "        q[0]=d[1]\n",
    "    elif d[0]=='push_back':\n",
    "        q.append(d[1])\n",
    "    elif d[0]=='pop_front':\n",
    "        if len(q)==0:\n",
    "            print(-1)\n",
    "        else:\n",
    "            print(q[0])\n",
    "            q=q[1:]\n",
    "    elif d[0]=='pop_back':\n",
    "        if len(q)==0:\n",
    "            print(-1)\n",
    "        else:\n",
    "            print(q.pop())\n",
    "    elif d[0]=='size':\n",
    "        print(len(q))\n",
    "    elif d[0]=='empty':\n",
    "        if len(q)==0:\n",
    "            print(1)\n",
    "        else:\n",
    "            print(0)\n",
    "    elif d[0]=='front':\n",
    "        if len(q)==0:\n",
    "            print(-1)\n",
    "        else:\n",
    "            print(q[0])\n",
    "    else:\n",
    "        if len(q)==0:\n",
    "            print(-1)\n",
    "        else:\n",
    "            print(q[-1])"
   ]
  },
  {
   "cell_type": "code",
   "execution_count": null,
   "id": "8cd7eb6e",
   "metadata": {},
   "outputs": [],
   "source": []
  }
 ],
 "metadata": {
  "kernelspec": {
   "display_name": "Python 3",
   "language": "python",
   "name": "python3"
  },
  "language_info": {
   "codemirror_mode": {
    "name": "ipython",
    "version": 3
   },
   "file_extension": ".py",
   "mimetype": "text/x-python",
   "name": "python",
   "nbconvert_exporter": "python",
   "pygments_lexer": "ipython3",
   "version": "3.8.8"
  }
 },
 "nbformat": 4,
 "nbformat_minor": 5
}
