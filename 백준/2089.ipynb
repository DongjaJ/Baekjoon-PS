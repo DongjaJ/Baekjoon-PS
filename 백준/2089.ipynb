{
 "cells": [
  {
   "cell_type": "code",
   "execution_count": 48,
   "id": "5d00615e",
   "metadata": {},
   "outputs": [
    {
     "name": "stdout",
     "output_type": "stream",
     "text": [
      "0\n",
      "0\n"
     ]
    }
   ],
   "source": [
    "n=int(input())\n",
    "a=[]\n",
    "if n==0: print(0)\n",
    "while n:\n",
    "    if n%(-2):\n",
    "        a.append(n%(-2))\n",
    "        n=n//-2+1\n",
    "    else:\n",
    "        a.append(n%-2)\n",
    "        n=n//-2\n",
    "a.reverse()\n",
    "for i in a:\n",
    "    print(i,end='') if i > 0 else print(-i,end='')"
   ]
  },
  {
   "cell_type": "markdown",
   "id": "a387a359",
   "metadata": {},
   "source": [
    "# "
   ]
  },
  {
   "cell_type": "code",
   "execution_count": null,
   "id": "3cb60c48",
   "metadata": {},
   "outputs": [],
   "source": [
    "2"
   ]
  }
 ],
 "metadata": {
  "kernelspec": {
   "display_name": "Python 3",
   "language": "python",
   "name": "python3"
  },
  "language_info": {
   "codemirror_mode": {
    "name": "ipython",
    "version": 3
   },
   "file_extension": ".py",
   "mimetype": "text/x-python",
   "name": "python",
   "nbconvert_exporter": "python",
   "pygments_lexer": "ipython3",
   "version": "3.8.8"
  }
 },
 "nbformat": 4,
 "nbformat_minor": 5
}
