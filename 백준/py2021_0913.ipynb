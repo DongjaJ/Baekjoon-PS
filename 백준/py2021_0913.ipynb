{
 "cells": [
  {
   "cell_type": "code",
   "execution_count": 1,
   "id": "3dc044ce",
   "metadata": {},
   "outputs": [
    {
     "name": "stdout",
     "output_type": "stream",
     "text": [
      "나는 엄마에게 말했다. \"더는 '카레'를 먹기 싫어요!\"라고\n"
     ]
    }
   ],
   "source": [
    "test_sample=\"나는 엄마에게 말했다. \\\"더는 \\'카레\\'를 먹기 싫어요!\\\"라고\"\n",
    "print(test_sample)"
   ]
  },
  {
   "cell_type": "code",
   "execution_count": 2,
   "id": "f164323b",
   "metadata": {},
   "outputs": [
    {
     "name": "stdout",
     "output_type": "stream",
     "text": [
      "붕어빵  -->  140267486763312\n"
     ]
    }
   ],
   "source": [
    "#id 메모리 주소\n",
    "a = '붕어빵'\n",
    "print( a, ' --> ', id(a) )"
   ]
  },
  {
   "cell_type": "code",
   "execution_count": 3,
   "id": "fe921a93",
   "metadata": {},
   "outputs": [
    {
     "name": "stdout",
     "output_type": "stream",
     "text": [
      "붕어빵  -->  140267486763312\n"
     ]
    }
   ],
   "source": [
    "b=a\n",
    "print( b, ' --> ', id(b) )"
   ]
  },
  {
   "cell_type": "code",
   "execution_count": 4,
   "id": "eb1195c3",
   "metadata": {},
   "outputs": [
    {
     "name": "stdout",
     "output_type": "stream",
     "text": [
      "잉어빵  -->  140267487836368\n"
     ]
    }
   ],
   "source": [
    "a = '잉어빵'\n",
    "print( a, ' --> ', id(a) )"
   ]
  },
  {
   "cell_type": "code",
   "execution_count": 5,
   "id": "12954923",
   "metadata": {},
   "outputs": [
    {
     "name": "stdout",
     "output_type": "stream",
     "text": [
      "[2-1] a is b= True\n",
      "[2-2] a is c False\n",
      "140267487746560 140267487746560 140267487746368\n"
     ]
    }
   ],
   "source": [
    "a=[1,2,3,4,5]\n",
    "b=a\n",
    "c=[1,2,3,4,5]\n",
    "print('[2-1] a is b=',a is b)\n",
    "print('[2-2] a is c',a is c)\n",
    "\n",
    "print (id(a),id(b), id(c))"
   ]
  },
  {
   "cell_type": "code",
   "execution_count": 6,
   "id": "f4575ac5",
   "metadata": {},
   "outputs": [
    {
     "name": "stdout",
     "output_type": "stream",
     "text": [
      "[1-1] a is b =  True\n",
      "[1-2] a == b =  True\n",
      "[2-1] c is d =  True\n",
      "[2-2] c == d =  True\n",
      "[3-1] e is f =  False\n",
      "[3-2] e == f =  True\n"
     ]
    }
   ],
   "source": [
    "a = 101\n",
    "b = 100 + 1\n",
    "print( '[1-1] a is b = ', a is b ) \n",
    "print( '[1-2] a == b = ', a == b )\n",
    "\n",
    "c = 'korea'\n",
    "d = 'korea'\n",
    "print( '[2-1] c is d = ', c is d ) \n",
    "print( '[2-2] c == d = ', c == d )\n",
    "\n",
    "e = [ 1, 2, 3, 4, 5 ]\n",
    "f = [ 1, 2, 3, 4, 5 ]\n",
    "print( '[3-1] e is f = ', e is f ) \n",
    "print( '[3-2] e == f = ', e == f )"
   ]
  },
  {
   "cell_type": "code",
   "execution_count": 7,
   "id": "9f8a6f33",
   "metadata": {},
   "outputs": [
    {
     "name": "stdout",
     "output_type": "stream",
     "text": [
      "[1] korea 140267487915632\n",
      "[2] korea 140267487915632\n",
      "a is b =  True\n",
      "[3] korea! 140267487648176\n",
      "a is b =  False\n",
      "[4] korea 140267487648944\n",
      "a is c =  False\n"
     ]
    }
   ],
   "source": [
    "a = \"korea\"\n",
    "print( '[1]', a, id(a) )\n",
    "b = \"korea\"\n",
    "print( '[2]', b, id(b) ) \n",
    "print( 'a is b = ', a is b )\n",
    "b += \"!\"\n",
    "print( '[3]', b, id(b) ) \n",
    "print( 'a is b = ', a is b )\n",
    "c = b[:-1]\n",
    "print( '[4]', c, id(c) ) \n",
    "print( 'a is c = ', a is c )"
   ]
  },
  {
   "cell_type": "code",
   "execution_count": 8,
   "id": "8a1c955c",
   "metadata": {},
   "outputs": [
    {
     "name": "stdout",
     "output_type": "stream",
     "text": [
      "korea 140267487915632  -  k 140267450956080  -  ko 140267487972976  -  kor 140267487973040  -  kore 140267487973104\n",
      "korea 140267487915632\n",
      "t is t[:] =  True\n",
      "t is t[:1] =  False\n",
      "t[:1] is t[:2] =  False\n",
      "t[:] is t[:5] =  True\n"
     ]
    }
   ],
   "source": [
    "t = \"korea\"\n",
    "print( t, id(t), ' - ', t[:1], id(t[:1]), ' - ', t[:2], id(t[:2]), ' - ', t[:3],\n",
    "id(t[:3]), ' - ', t[:4], id(t[:4]) ) \n",
    "print( t, id(t[:]) )\n",
    "\n",
    "print( 't is t[:] = ', t is t[:] )\n",
    "print( 't is t[:1] = ', t is t[:1] )\n",
    "print( 't[:1] is t[:2] = ', t[:1] is t[:2] ) \n",
    "print( 't[:] is t[:5] = ', t[:] is t[:5] )"
   ]
  },
  {
   "cell_type": "code",
   "execution_count": 11,
   "id": "e04fb880",
   "metadata": {},
   "outputs": [
    {
     "name": "stdout",
     "output_type": "stream",
     "text": [
      "200 100\n"
     ]
    }
   ],
   "source": [
    "a =100\n",
    "b = 200\n",
    "a,b=b,a\n",
    "\n",
    "print (a,b)"
   ]
  },
  {
   "cell_type": "code",
   "execution_count": null,
   "id": "9f3134c7",
   "metadata": {},
   "outputs": [],
   "source": []
  }
 ],
 "metadata": {
  "kernelspec": {
   "display_name": "Python 3",
   "language": "python",
   "name": "python3"
  },
  "language_info": {
   "codemirror_mode": {
    "name": "ipython",
    "version": 3
   },
   "file_extension": ".py",
   "mimetype": "text/x-python",
   "name": "python",
   "nbconvert_exporter": "python",
   "pygments_lexer": "ipython3",
   "version": "3.8.8"
  }
 },
 "nbformat": 4,
 "nbformat_minor": 5
}
