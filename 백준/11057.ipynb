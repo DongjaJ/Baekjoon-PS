{
 "cells": [
  {
   "cell_type": "code",
   "execution_count": 4,
   "id": "459225a0",
   "metadata": {},
   "outputs": [
    {
     "name": "stdout",
     "output_type": "stream",
     "text": [
      "3\n",
      "220\n"
     ]
    }
   ],
   "source": [
    "n=int(input())\n",
    "d=[[1 for i in range(10)] for j in range(1001)]\n",
    "for i in range(2,n+1):\n",
    "    for j in range(10):\n",
    "        if j == 0:\n",
    "            d[i][j]=d[i-1][j]%10007\n",
    "        else:\n",
    "            d[i][j]=sum(d[i-1][:j+1])%10007\n",
    "print(sum(d[n])%10007)"
   ]
  },
  {
   "cell_type": "code",
   "execution_count": null,
   "id": "bb596a94",
   "metadata": {},
   "outputs": [],
   "source": []
  }
 ],
 "metadata": {
  "kernelspec": {
   "display_name": "Python 3",
   "language": "python",
   "name": "python3"
  },
  "language_info": {
   "codemirror_mode": {
    "name": "ipython",
    "version": 3
   },
   "file_extension": ".py",
   "mimetype": "text/x-python",
   "name": "python",
   "nbconvert_exporter": "python",
   "pygments_lexer": "ipython3",
   "version": "3.8.8"
  }
 },
 "nbformat": 4,
 "nbformat_minor": 5
}
