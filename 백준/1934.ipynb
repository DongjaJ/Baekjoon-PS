{
 "cells": [
  {
   "cell_type": "code",
   "execution_count": 5,
   "id": "292b8751",
   "metadata": {},
   "outputs": [
    {
     "name": "stdout",
     "output_type": "stream",
     "text": [
      "3\n",
      "1 45000\n",
      "45000\n",
      "6 10\n",
      "30\n",
      "13 17\n",
      "221\n"
     ]
    }
   ],
   "source": [
    "import sys\n",
    "\n",
    "def gcd(x,y):\n",
    "    if y==0: return x\n",
    "    return gcd(y,x%y)\n",
    "\n",
    "\n",
    "for _ in range(int(input())):\n",
    "    a,b=map(int,input().split())\n",
    "    print(a*a[2]//gcd(a[0],a[2]))"
   ]
  },
  {
   "cell_type": "code",
   "execution_count": null,
   "id": "7521fa43",
   "metadata": {},
   "outputs": [],
   "source": []
  }
 ],
 "metadata": {
  "kernelspec": {
   "display_name": "Python 3",
   "language": "python",
   "name": "python3"
  },
  "language_info": {
   "codemirror_mode": {
    "name": "ipython",
    "version": 3
   },
   "file_extension": ".py",
   "mimetype": "text/x-python",
   "name": "python",
   "nbconvert_exporter": "python",
   "pygments_lexer": "ipython3",
   "version": "3.8.8"
  }
 },
 "nbformat": 4,
 "nbformat_minor": 5
}
