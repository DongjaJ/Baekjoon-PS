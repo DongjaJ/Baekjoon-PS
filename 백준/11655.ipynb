{
 "cells": [
  {
   "cell_type": "code",
   "execution_count": 46,
   "id": "991f46a2",
   "metadata": {},
   "outputs": [
    {
     "name": "stdout",
     "output_type": "stream",
     "text": [
      "Baekjoon Online Judge\n",
      "Onrxwbba Bayvar Whqtr\n"
     ]
    }
   ],
   "source": [
    "s=input()\n",
    "a=[]\n",
    "for i in s:\n",
    "    if i >= 'A' and i <= 'Z':\n",
    "        x=ord(i)+13\n",
    "        if x > 90:\n",
    "            x-=26\n",
    "        a.append(chr(x))\n",
    "    elif i>='a' and i<='z':\n",
    "        x=ord(i)+13\n",
    "        if x > 122:\n",
    "            x-=26\n",
    "        a.append(chr(x))\n",
    "    else: a.append(i)\n",
    "print(\"\".join(a))"
   ]
  },
  {
   "cell_type": "code",
   "execution_count": null,
   "id": "fa0115d0",
   "metadata": {},
   "outputs": [],
   "source": []
  },
  {
   "cell_type": "code",
   "execution_count": null,
   "id": "c9ec6068",
   "metadata": {},
   "outputs": [],
   "source": []
  }
 ],
 "metadata": {
  "kernelspec": {
   "display_name": "Python 3",
   "language": "python",
   "name": "python3"
  },
  "language_info": {
   "codemirror_mode": {
    "name": "ipython",
    "version": 3
   },
   "file_extension": ".py",
   "mimetype": "text/x-python",
   "name": "python",
   "nbconvert_exporter": "python",
   "pygments_lexer": "ipython3",
   "version": "3.8.8"
  }
 },
 "nbformat": 4,
 "nbformat_minor": 5
}
