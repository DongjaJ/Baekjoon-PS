{
 "cells": [
  {
   "cell_type": "code",
   "execution_count": 6,
   "id": "f13777b3",
   "metadata": {},
   "outputs": [
    {
     "name": "stdout",
     "output_type": "stream",
     "text": [
      "2\n",
      "8\n",
      "3 2 7 8 1 4 5 6\n",
      "3\n",
      "10\n",
      "2 1 3 4 5 6 7 9 10 8\n",
      "7\n"
     ]
    }
   ],
   "source": [
    "def dfs(x):\n",
    "        visit[x]=True\n",
    "        if not visit[edge[x]]: dfs(edge[x])\n",
    "\n",
    "for _ in range(int(input())):\n",
    "    n=int(input())\n",
    "    visit=[False]*(n+1)\n",
    "    edge=[0]+list(map(int,input().split()))\n",
    "\n",
    "    \n",
    "    cnt=0\n",
    "    for i in range(1,n+1):\n",
    "        if not visit[i]:\n",
    "            \n",
    "            dfs(i)\n",
    "            cnt+=1\n",
    "        \n",
    "    print(cnt)"
   ]
  },
  {
   "cell_type": "code",
   "execution_count": null,
   "id": "54429f05",
   "metadata": {},
   "outputs": [],
   "source": []
  }
 ],
 "metadata": {
  "kernelspec": {
   "display_name": "Python 3",
   "language": "python",
   "name": "python3"
  },
  "language_info": {
   "codemirror_mode": {
    "name": "ipython",
    "version": 3
   },
   "file_extension": ".py",
   "mimetype": "text/x-python",
   "name": "python",
   "nbconvert_exporter": "python",
   "pygments_lexer": "ipython3",
   "version": "3.8.8"
  }
 },
 "nbformat": 4,
 "nbformat_minor": 5
}
