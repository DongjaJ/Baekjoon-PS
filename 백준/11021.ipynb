{
 "cells": [
  {
   "cell_type": "code",
   "execution_count": 5,
   "id": "fbaeb062",
   "metadata": {},
   "outputs": [
    {
     "name": "stdout",
     "output_type": "stream",
     "text": [
      "5\n",
      "1 1\n",
      "Case #%d: %d 2\n",
      "2 2\n",
      "Case #%d: %d 4\n",
      "3 3\n",
      "Case #%d: %d 6\n",
      "4 6\n",
      "Case #%d: %d 10\n",
      "1 2\n",
      "Case #%d: %d 3\n"
     ]
    }
   ],
   "source": [
    "for i in range(int(input())):\n",
    "    print(\"Case #%d: %d\"%sum(map(int,input().split())))"
   ]
  },
  {
   "cell_type": "markdown",
   "id": "129a019e",
   "metadata": {},
   "source": []
  }
 ],
 "metadata": {
  "kernelspec": {
   "display_name": "Python 3",
   "language": "python",
   "name": "python3"
  },
  "language_info": {
   "codemirror_mode": {
    "name": "ipython",
    "version": 3
   },
   "file_extension": ".py",
   "mimetype": "text/x-python",
   "name": "python",
   "nbconvert_exporter": "python",
   "pygments_lexer": "ipython3",
   "version": "3.8.8"
  }
 },
 "nbformat": 4,
 "nbformat_minor": 5
}
