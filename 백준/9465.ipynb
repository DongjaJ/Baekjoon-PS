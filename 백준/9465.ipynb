{
 "cells": [
  {
   "cell_type": "code",
   "execution_count": 6,
   "id": "45f34de4",
   "metadata": {},
   "outputs": [
    {
     "name": "stdout",
     "output_type": "stream",
     "text": [
      "1\n",
      "1\n",
      "1\n",
      "1\n",
      "1\n"
     ]
    }
   ],
   "source": [
    "for _ in range(int(input())):\n",
    "    n=int(input())\n",
    "    s=[]\n",
    "    for _ in range(2):\n",
    "        s.append(list(map(int,input().split())))\n",
    "    if n>=2:\n",
    "        s[1][1]+=s[0][0]\n",
    "        s[0][1]+=s[1][0]\n",
    "        for i in range(2,n):\n",
    "            s[0][i]+=max(s[1][i-1],s[1][i-2])\n",
    "            s[1][i]+=max(s[0][i-1],s[0][i-2])\n",
    "    print(max(s[0][n-1],s[1][n-1]))\n",
    "        "
   ]
  },
  {
   "cell_type": "markdown",
   "id": "684a1381",
   "metadata": {},
   "source": [
    " "
   ]
  }
 ],
 "metadata": {
  "kernelspec": {
   "display_name": "Python 3",
   "language": "python",
   "name": "python3"
  },
  "language_info": {
   "codemirror_mode": {
    "name": "ipython",
    "version": 3
   },
   "file_extension": ".py",
   "mimetype": "text/x-python",
   "name": "python",
   "nbconvert_exporter": "python",
   "pygments_lexer": "ipython3",
   "version": "3.8.8"
  }
 },
 "nbformat": 4,
 "nbformat_minor": 5
}
