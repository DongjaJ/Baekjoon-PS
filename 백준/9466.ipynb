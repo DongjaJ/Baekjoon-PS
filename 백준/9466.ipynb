{
 "cells": [
  {
   "cell_type": "code",
   "execution_count": 18,
   "id": "b02098e6",
   "metadata": {},
   "outputs": [
    {
     "name": "stdout",
     "output_type": "stream",
     "text": [
      "2\n",
      "7\n",
      "3 1 3 7 3 4 6\n",
      "3\n",
      "8\n",
      "1 2 3 4 5 6 7 8\n",
      "0\n"
     ]
    }
   ],
   "source": [
    "def dfs(x):\n",
    "    visit[x]=True\n",
    "    a.append(x)\n",
    "    global cnt\n",
    "    if visit[m[x]]== True:\n",
    "        if m[x] in a:\n",
    "            cnt+=a[a.index(m[x]):]\n",
    "        return\n",
    "    else:\n",
    "        dfs(m[x])\n",
    "\n",
    "        \n",
    "for _ in range(int(input())):\n",
    "    n=int(input())\n",
    "    m=[0]+list(map(int,input().split()))\n",
    "    visit=[False]*(n+1)\n",
    "    cnt=[]\n",
    "    for i in range(1,n+1):\n",
    "        if not visit[i]:\n",
    "            a=[]\n",
    "            dfs(i)\n",
    "    print(n-len(cnt))"
   ]
  },
  {
   "cell_type": "code",
   "execution_count": null,
   "id": "212a3cf7",
   "metadata": {},
   "outputs": [],
   "source": []
  },
  {
   "cell_type": "code",
   "execution_count": null,
   "id": "260f9f8a",
   "metadata": {},
   "outputs": [],
   "source": []
  }
 ],
 "metadata": {
  "kernelspec": {
   "display_name": "Python 3",
   "language": "python",
   "name": "python3"
  },
  "language_info": {
   "codemirror_mode": {
    "name": "ipython",
    "version": 3
   },
   "file_extension": ".py",
   "mimetype": "text/x-python",
   "name": "python",
   "nbconvert_exporter": "python",
   "pygments_lexer": "ipython3",
   "version": "3.8.8"
  }
 },
 "nbformat": 4,
 "nbformat_minor": 5
}
