{
 "cells": [
  {
   "cell_type": "code",
   "execution_count": 13,
   "id": "0a7c5f45",
   "metadata": {},
   "outputs": [
    {
     "name": "stdout",
     "output_type": "stream",
     "text": [
      "2\n",
      "1 3\n",
      "1\n"
     ]
    }
   ],
   "source": [
    "d=[0]*1001\n",
    "d[1]=1\n",
    "for i in range(2,1000):\n",
    "    for j in range(2,1000):\n",
    "        if i*j > 1000: break\n",
    "        d[i*j]=1\n",
    "input()\n",
    "n=list(map(int,input().split()))\n",
    "cnt=0\n",
    "for i in n:\n",
    "    if d[i]==0:\n",
    "        cnt+=1\n",
    "print(cnt)\n"
   ]
  },
  {
   "cell_type": "markdown",
   "id": "9cf98e82",
   "metadata": {},
   "source": [
    "# "
   ]
  }
 ],
 "metadata": {
  "kernelspec": {
   "display_name": "Python 3",
   "language": "python",
   "name": "python3"
  },
  "language_info": {
   "codemirror_mode": {
    "name": "ipython",
    "version": 3
   },
   "file_extension": ".py",
   "mimetype": "text/x-python",
   "name": "python",
   "nbconvert_exporter": "python",
   "pygments_lexer": "ipython3",
   "version": "3.8.8"
  }
 },
 "nbformat": 4,
 "nbformat_minor": 5
}
