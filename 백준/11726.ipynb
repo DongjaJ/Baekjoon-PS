{
 "cells": [
  {
   "cell_type": "code",
   "execution_count": 11,
   "id": "eb662761",
   "metadata": {},
   "outputs": [
    {
     "name": "stdout",
     "output_type": "stream",
     "text": [
      "9\n",
      "55\n"
     ]
    }
   ],
   "source": [
    "x=int(input())\n",
    "d=[0]*(x+1)\n",
    "if x==1:\n",
    "    print(1)\n",
    "elif x==2:\n",
    "    print(2)\n",
    "else:\n",
    "    d[1]=1\n",
    "    d[2]=2\n",
    "    for i in range(3,x+1):\n",
    "        d[i]=d[i-1]+d[i-2]\n",
    "    print(d[x]%10007)"
   ]
  },
  {
   "cell_type": "markdown",
   "id": "7b090adc",
   "metadata": {},
   "source": []
  }
 ],
 "metadata": {
  "kernelspec": {
   "display_name": "Python 3",
   "language": "python",
   "name": "python3"
  },
  "language_info": {
   "codemirror_mode": {
    "name": "ipython",
    "version": 3
   },
   "file_extension": ".py",
   "mimetype": "text/x-python",
   "name": "python",
   "nbconvert_exporter": "python",
   "pygments_lexer": "ipython3",
   "version": "3.8.8"
  }
 },
 "nbformat": 4,
 "nbformat_minor": 5
}
