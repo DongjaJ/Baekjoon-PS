{
 "cells": [
  {
   "cell_type": "code",
   "execution_count": null,
   "id": "3bd2b858",
   "metadata": {},
   "outputs": [
    {
     "name": "stdout",
     "output_type": "stream",
     "text": [
      "1 1\n",
      "0\n",
      "0\n",
      "2 2\n",
      "0 1\n",
      "1 0\n",
      "1\n",
      "3 2\n",
      "1 1 1\n",
      "1 1 1\n",
      "1\n",
      "5 4\n",
      "1 0 1 0 0\n",
      "1 0 0 0 0\n",
      "1 0 1 0 1\n",
      "1 0 0 1 0\n",
      "4\n",
      "5 5\n",
      "1 0 1 0 1\n",
      "0 0 0 0 0\n",
      "1 0 1 0 1\n",
      "0 0 0 0 0\n"
     ]
    }
   ],
   "source": [
    "from collections import deque\n",
    "\n",
    "#왼, 왼아, 왼위, 위, 아래, 오, 오아,오위\n",
    "dy=[-1,-1,-1,0,0,1,1,1]\n",
    "dx=[0,1,-1,-1,1,0,1,-1]\n",
    "\n",
    "def bfs(x,y):\n",
    "    q=deque()\n",
    "    q.append([x,y])\n",
    "    visit[x][y]=True\n",
    "    while q:\n",
    "        tmp=q.popleft()\n",
    "        #print(tmp)\n",
    "        for i in range(7):\n",
    "            x1=tmp[0]+dx[i]\n",
    "            y1=tmp[1]+dy[i]\n",
    "            #print(x1,y1)\n",
    "            if x1>=0 and y1>=0 and x1<h and y1<w:\n",
    "                if m[x1][y1]==1 and not visit[x1][y1]:\n",
    "                    visit[x1][y1]=True\n",
    "                    q.append([x1,y1])\n",
    "while True:\n",
    "    w,h=map(int,input().split())\n",
    "    if w==0 and h==0:\n",
    "        break\n",
    "    m=[]\n",
    "    visit=[[False]*w for _ in range(h)]\n",
    "    for _ in range(h):\n",
    "        m.append(list(map(int,input().split())))\n",
    "\n",
    "    cnt=0\n",
    "    for i in range(h):\n",
    "        for j in range(w):\n",
    "            if m[i][j]==1 and not visit[i][j]:\n",
    "                bfs(i,j)\n",
    "                cnt+=1\n",
    "    print(cnt)"
   ]
  },
  {
   "cell_type": "markdown",
   "id": "181a37e7",
   "metadata": {},
   "source": [
    "## "
   ]
  },
  {
   "cell_type": "code",
   "execution_count": null,
   "id": "2bd45aa8",
   "metadata": {},
   "outputs": [],
   "source": []
  }
 ],
 "metadata": {
  "kernelspec": {
   "display_name": "Python 3",
   "language": "python",
   "name": "python3"
  },
  "language_info": {
   "codemirror_mode": {
    "name": "ipython",
    "version": 3
   },
   "file_extension": ".py",
   "mimetype": "text/x-python",
   "name": "python",
   "nbconvert_exporter": "python",
   "pygments_lexer": "ipython3",
   "version": "3.8.8"
  }
 },
 "nbformat": 4,
 "nbformat_minor": 5
}
