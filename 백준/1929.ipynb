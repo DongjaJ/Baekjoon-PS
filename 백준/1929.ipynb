{
 "cells": [
  {
   "cell_type": "code",
   "execution_count": 1,
   "id": "abcb655d",
   "metadata": {},
   "outputs": [
    {
     "name": "stdout",
     "output_type": "stream",
     "text": [
      "3 16\n",
      "3\n",
      "5\n",
      "7\n",
      "11\n",
      "13\n"
     ]
    }
   ],
   "source": [
    "d=[0]*1000001\n",
    "d[1]=1\n",
    "m,n=map(int,input().split())\n",
    "for i in range(2,n+1):\n",
    "    for j in range(2,n+1):\n",
    "        if i*j > n+1: break\n",
    "        d[i*j]=1\n",
    "a=[]\n",
    "for i in range(m,n+1):\n",
    "    if d[i]==0: a.append(str(i))\n",
    "    \n",
    "print(\"\\n\".join(a))\n",
    "\n"
   ]
  },
  {
   "cell_type": "code",
   "execution_count": 5,
   "id": "49888f0e",
   "metadata": {},
   "outputs": [
    {
     "name": "stdout",
     "output_type": "stream",
     "text": [
      "3 16\n",
      "3\n",
      "5\n",
      "7\n",
      "11\n",
      "13\n"
     ]
    }
   ],
   "source": [
    "d=[0]*1000001\n",
    "d[1]=1\n",
    "m,n=map(int,input().split())\n",
    "for i in range(2,int(n**0.5)):\n",
    "    if d[i]==0:\n",
    "        for j in range(2*i,n+1,i):\n",
    "            d[j]=1\n",
    "a=[]\n",
    "for i in range(m,n+1):\n",
    "    if d[i]==0: a.append(str(i))\n",
    "    \n",
    "print(\"\\n\".join(a))"
   ]
  },
  {
   "cell_type": "code",
   "execution_count": null,
   "id": "43678080",
   "metadata": {},
   "outputs": [],
   "source": []
  }
 ],
 "metadata": {
  "kernelspec": {
   "display_name": "Python 3",
   "language": "python",
   "name": "python3"
  },
  "language_info": {
   "codemirror_mode": {
    "name": "ipython",
    "version": 3
   },
   "file_extension": ".py",
   "mimetype": "text/x-python",
   "name": "python",
   "nbconvert_exporter": "python",
   "pygments_lexer": "ipython3",
   "version": "3.8.8"
  }
 },
 "nbformat": 4,
 "nbformat_minor": 5
}
