{
 "cells": [
  {
   "cell_type": "code",
   "execution_count": 17,
   "id": "2c0ed564",
   "metadata": {},
   "outputs": [
    {
     "name": "stdout",
     "output_type": "stream",
     "text": [
      "10\n",
      "2\n"
     ]
    }
   ],
   "source": [
    "n=int(input())\n",
    "cnt2,cnt5,cnt10=0,0,0\n",
    "while n>1:\n",
    "    tmp=n\n",
    "    if tmp%10==0:\n",
    "        while tmp%10==0:\n",
    "            cnt10+=1\n",
    "            tmp/=10\n",
    "    \n",
    "    if tmp%2==0:\n",
    "        while tmp%2==0:\n",
    "            cnt2+=1\n",
    "            tmp/=2 \n",
    "    if tmp%5==0:\n",
    "        while tmp%5==0:\n",
    "            cnt5+=1\n",
    "            tmp/=5\n",
    "    n-=1\n",
    "\n",
    "ans=cnt10+min(cnt2,cnt5)\n",
    "print(ans)"
   ]
  },
  {
   "cell_type": "code",
   "execution_count": null,
   "id": "11f81400",
   "metadata": {},
   "outputs": [],
   "source": []
  },
  {
   "cell_type": "code",
   "execution_count": null,
   "id": "9555b8cf",
   "metadata": {},
   "outputs": [],
   "source": [
    "3"
   ]
  }
 ],
 "metadata": {
  "kernelspec": {
   "display_name": "Python 3",
   "language": "python",
   "name": "python3"
  },
  "language_info": {
   "codemirror_mode": {
    "name": "ipython",
    "version": 3
   },
   "file_extension": ".py",
   "mimetype": "text/x-python",
   "name": "python",
   "nbconvert_exporter": "python",
   "pygments_lexer": "ipython3",
   "version": "3.8.8"
  }
 },
 "nbformat": 4,
 "nbformat_minor": 5
}
